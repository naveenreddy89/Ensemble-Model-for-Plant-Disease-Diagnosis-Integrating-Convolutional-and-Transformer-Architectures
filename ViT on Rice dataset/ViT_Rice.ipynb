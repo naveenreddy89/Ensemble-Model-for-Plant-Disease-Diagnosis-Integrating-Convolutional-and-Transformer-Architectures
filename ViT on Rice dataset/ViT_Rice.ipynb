{
 "cells": [
  {
   "cell_type": "code",
   "execution_count": 1,
   "id": "4ced27a4-b262-44ce-b7ad-dbdba5c57d04",
   "metadata": {},
   "outputs": [],
   "source": [
    "import torch\n",
    "import torch.nn as nn\n",
    "import torch.optim as optim\n",
    "from torchvision.datasets import ImageFolder\n",
    "from torch.utils.data import DataLoader\n",
    "from transformers import ViTForImageClassification, ViTFeatureExtractor\n",
    "from torchvision import transforms\n",
    "from sklearn.metrics import accuracy_score\n",
    "from tqdm import tqdm\n",
    "import matplotlib.pyplot as plt\n",
    "import time\n",
    "import os"
   ]
  },
  {
   "cell_type": "code",
   "execution_count": 2,
   "id": "f3f7c5d1-459e-440c-9cc4-9d039201e1ed",
   "metadata": {},
   "outputs": [],
   "source": [
    "train_transform = transforms.Compose([\n",
    "    transforms.Resize((224, 224)),\n",
    "#    transforms.RandomHorizontalFlip(),\n",
    "    transforms.ToTensor(),\n",
    "#    transforms.Normalize(mean=[0.485, 0.456, 0.406], std=[0.229, 0.224, 0.225])\n",
    "])\n",
    "\n",
    "val_transform = transforms.Compose([\n",
    "    transforms.Resize((224, 224)),\n",
    "    transforms.ToTensor(),\n",
    "    transforms.Normalize(mean=[0.485, 0.456, 0.406], std=[0.229, 0.224, 0.225])\n",
    "])\n",
    "\n",
    "train_dataset = ImageFolder(root='D:/Refined 7 Dataset/RICE KAGGLE/train', transform=train_transform)\n",
    "val_dataset = ImageFolder(root='D:/Refined 7 Dataset/RICE KAGGLE/test', transform=train_transform)\n",
    "\n",
    "train_loader = DataLoader(train_dataset, batch_size=32, shuffle=True, num_workers=4)\n",
    "val_loader = DataLoader(val_dataset, batch_size=32, shuffle=False, num_workers=4)"
   ]
  },
  {
   "cell_type": "code",
   "execution_count": 3,
   "id": "e8eadb17-1302-4d84-aa2b-a736505940f4",
   "metadata": {},
   "outputs": [
    {
     "name": "stderr",
     "output_type": "stream",
     "text": [
      "Some weights of ViTForImageClassification were not initialized from the model checkpoint at google/vit-base-patch16-224 and are newly initialized because the shapes did not match:\n",
      "- classifier.bias: found shape torch.Size([1000]) in the checkpoint and torch.Size([3]) in the model instantiated\n",
      "- classifier.weight: found shape torch.Size([1000, 768]) in the checkpoint and torch.Size([3, 768]) in the model instantiated\n",
      "You should probably TRAIN this model on a down-stream task to be able to use it for predictions and inference.\n"
     ]
    }
   ],
   "source": [
    "num_classes = len(train_dataset.classes)\n",
    "model = ViTForImageClassification.from_pretrained(\"google/vit-base-patch16-224\",\n",
    "                                                num_labels=num_classes,\n",
    "                                               ignore_mismatched_sizes=True)"
   ]
  },
  {
   "cell_type": "code",
   "execution_count": 4,
   "id": "b30d8455-2c8c-4c07-831e-b210cbf5b218",
   "metadata": {},
   "outputs": [
    {
     "name": "stdout",
     "output_type": "stream",
     "text": [
      "cuda\n"
     ]
    }
   ],
   "source": [
    "for param in model.parameters():\n",
    "    param.requires_grad = True\n",
    "\n",
    "for param in model.classifier.parameters():\n",
    "    param.requires_grad = True\n",
    "\n",
    "device = torch.device(\"cuda\" if torch.cuda.is_available() else \"cpu\")\n",
    "print(device)\n",
    "model = model.to(device)"
   ]
  },
  {
   "cell_type": "code",
   "execution_count": 5,
   "id": "1d5a0589-6420-44c4-8bba-53e1a574aa30",
   "metadata": {},
   "outputs": [
    {
     "name": "stdout",
     "output_type": "stream",
     "text": [
      "Total number of trainable parameters: 85800963\n"
     ]
    }
   ],
   "source": [
    "trainable_params = sum(p.numel() for p in model.parameters() if p.requires_grad)\n",
    "print(f\"Total number of trainable parameters: {trainable_params}\")"
   ]
  },
  {
   "cell_type": "code",
   "execution_count": 6,
   "id": "1027df00-7c9d-4d45-b8fb-7274df178cff",
   "metadata": {},
   "outputs": [],
   "source": [
    "criterion = nn.CrossEntropyLoss()\n",
    "optimizer = optim.Adam(model.classifier.parameters(),\n",
    "                       lr=0.00001,\n",
    "                       weight_decay=0.001)"
   ]
  },
  {
   "cell_type": "code",
   "execution_count": 7,
   "id": "396c94a9-2827-4458-9a9c-fd32356d11dc",
   "metadata": {
    "scrolled": true
   },
   "outputs": [
    {
     "name": "stdout",
     "output_type": "stream",
     "text": [
      "Epoch [1/30]\n"
     ]
    },
    {
     "name": "stderr",
     "output_type": "stream",
     "text": [
      "Training:   0%|                                                                                | 0/127 [00:00<?, ?it/s]C:\\Users\\cnky2\\anaconda3\\envs\\manu\\Lib\\site-packages\\transformers\\models\\vit\\modeling_vit.py:252: UserWarning: 1Torch was not compiled with flash attention. (Triggered internally at C:\\cb\\pytorch_1000000000000\\work\\aten\\src\\ATen\\native\\transformers\\cuda\\sdp_utils.cpp:555.)\n",
      "  context_layer = torch.nn.functional.scaled_dot_product_attention(\n",
      "Training: 100%|██████████████████████████████████████████| 127/127 [02:22<00:00,  1.12s/it, accuracy=63.5, loss=0.0259]\n",
      "                                                                                                                       \r"
     ]
    },
    {
     "name": "stdout",
     "output_type": "stream",
     "text": [
      "Epoch [1/30] - Train Loss: 0.8278, Train Accuracy: 63.50%, Val Loss: 0.7190, Val Accuracy: 72.30%\n",
      "Epoch [2/30]\n"
     ]
    },
    {
     "name": "stderr",
     "output_type": "stream",
     "text": [
      "Training: 100%|██████████████████████████████████████████| 127/127 [02:24<00:00,  1.14s/it, accuracy=78.5, loss=0.0183]\n",
      "                                                                                                                       \r"
     ]
    },
    {
     "name": "stdout",
     "output_type": "stream",
     "text": [
      "Epoch [2/30] - Train Loss: 0.5859, Train Accuracy: 78.54%, Val Loss: 0.5518, Val Accuracy: 81.32%\n",
      "Epoch [3/30]\n"
     ]
    },
    {
     "name": "stderr",
     "output_type": "stream",
     "text": [
      "Training: 100%|██████████████████████████████████████████| 127/127 [02:22<00:00,  1.12s/it, accuracy=83.3, loss=0.0147]\n",
      "                                                                                                                       \r"
     ]
    },
    {
     "name": "stdout",
     "output_type": "stream",
     "text": [
      "Epoch [3/30] - Train Loss: 0.4717, Train Accuracy: 83.29%, Val Loss: 0.4527, Val Accuracy: 85.35%\n",
      "Epoch [4/30]\n"
     ]
    },
    {
     "name": "stderr",
     "output_type": "stream",
     "text": [
      "Training: 100%|██████████████████████████████████████████| 127/127 [02:22<00:00,  1.12s/it, accuracy=87.4, loss=0.0124]\n",
      "                                                                                                                       \r"
     ]
    },
    {
     "name": "stdout",
     "output_type": "stream",
     "text": [
      "Epoch [4/30] - Train Loss: 0.3956, Train Accuracy: 87.45%, Val Loss: 0.3834, Val Accuracy: 90.02%\n",
      "Epoch [5/30]\n"
     ]
    },
    {
     "name": "stderr",
     "output_type": "stream",
     "text": [
      "Training: 100%|██████████████████████████████████████████| 127/127 [02:22<00:00,  1.12s/it, accuracy=90.6, loss=0.0106]\n",
      "                                                                                                                       \r"
     ]
    },
    {
     "name": "stdout",
     "output_type": "stream",
     "text": [
      "Epoch [5/30] - Train Loss: 0.3401, Train Accuracy: 90.60%, Val Loss: 0.3393, Val Accuracy: 90.34%\n",
      "Epoch [6/30]\n"
     ]
    },
    {
     "name": "stderr",
     "output_type": "stream",
     "text": [
      "Training: 100%|█████████████████████████████████████████| 127/127 [02:23<00:00,  1.13s/it, accuracy=92.1, loss=0.00934]\n",
      "                                                                                                                       \r"
     ]
    },
    {
     "name": "stdout",
     "output_type": "stream",
     "text": [
      "Epoch [6/30] - Train Loss: 0.2988, Train Accuracy: 92.15%, Val Loss: 0.2941, Val Accuracy: 92.75%\n",
      "Epoch [7/30]\n"
     ]
    },
    {
     "name": "stderr",
     "output_type": "stream",
     "text": [
      "Training: 100%|██████████████████████████████████████████| 127/127 [02:22<00:00,  1.12s/it, accuracy=93.6, loss=0.0083]\n",
      "                                                                                                                       \r"
     ]
    },
    {
     "name": "stdout",
     "output_type": "stream",
     "text": [
      "Epoch [7/30] - Train Loss: 0.2654, Train Accuracy: 93.58%, Val Loss: 0.2593, Val Accuracy: 94.69%\n",
      "Epoch [8/30]\n"
     ]
    },
    {
     "name": "stderr",
     "output_type": "stream",
     "text": [
      "Training: 100%|█████████████████████████████████████████| 127/127 [02:22<00:00,  1.12s/it, accuracy=95.1, loss=0.00744]\n",
      "                                                                                                                       \r"
     ]
    },
    {
     "name": "stdout",
     "output_type": "stream",
     "text": [
      "Epoch [8/30] - Train Loss: 0.2381, Train Accuracy: 95.10%, Val Loss: 0.2346, Val Accuracy: 95.01%\n",
      "Epoch [9/30]\n"
     ]
    },
    {
     "name": "stderr",
     "output_type": "stream",
     "text": [
      "Training: 100%|█████████████████████████████████████████| 127/127 [02:22<00:00,  1.12s/it, accuracy=96.1, loss=0.00671]\n",
      "                                                                                                                       \r"
     ]
    },
    {
     "name": "stdout",
     "output_type": "stream",
     "text": [
      "Epoch [9/30] - Train Loss: 0.2146, Train Accuracy: 96.06%, Val Loss: 0.2107, Val Accuracy: 96.62%\n",
      "Epoch [10/30]\n"
     ]
    },
    {
     "name": "stderr",
     "output_type": "stream",
     "text": [
      "Training: 100%|█████████████████████████████████████████| 127/127 [02:22<00:00,  1.12s/it, accuracy=97.1, loss=0.00611]\n",
      "                                                                                                                       \r"
     ]
    },
    {
     "name": "stdout",
     "output_type": "stream",
     "text": [
      "Epoch [10/30] - Train Loss: 0.1953, Train Accuracy: 97.12%, Val Loss: 0.1948, Val Accuracy: 96.30%\n",
      "Epoch [11/30]\n"
     ]
    },
    {
     "name": "stderr",
     "output_type": "stream",
     "text": [
      "Training: 100%|█████████████████████████████████████████| 127/127 [02:22<00:00,  1.13s/it, accuracy=97.7, loss=0.00559]\n",
      "                                                                                                                       \r"
     ]
    },
    {
     "name": "stdout",
     "output_type": "stream",
     "text": [
      "Epoch [11/30] - Train Loss: 0.1787, Train Accuracy: 97.66%, Val Loss: 0.1783, Val Accuracy: 97.42%\n",
      "Epoch [12/30]\n"
     ]
    },
    {
     "name": "stderr",
     "output_type": "stream",
     "text": [
      "Training: 100%|█████████████████████████████████████████| 127/127 [02:22<00:00,  1.12s/it, accuracy=98.2, loss=0.00514]\n",
      "                                                                                                                       \r"
     ]
    },
    {
     "name": "stdout",
     "output_type": "stream",
     "text": [
      "Epoch [12/30] - Train Loss: 0.1644, Train Accuracy: 98.23%, Val Loss: 0.1641, Val Accuracy: 97.26%\n",
      "Epoch [13/30]\n"
     ]
    },
    {
     "name": "stderr",
     "output_type": "stream",
     "text": [
      "Training: 100%|█████████████████████████████████████████| 127/127 [02:22<00:00,  1.12s/it, accuracy=98.4, loss=0.00474]\n",
      "                                                                                                                       \r"
     ]
    },
    {
     "name": "stdout",
     "output_type": "stream",
     "text": [
      "Epoch [13/30] - Train Loss: 0.1516, Train Accuracy: 98.45%, Val Loss: 0.1515, Val Accuracy: 97.75%\n",
      "Epoch [14/30]\n"
     ]
    },
    {
     "name": "stderr",
     "output_type": "stream",
     "text": [
      "Training: 100%|█████████████████████████████████████████| 127/127 [02:22<00:00,  1.12s/it, accuracy=98.7, loss=0.00439]\n",
      "                                                                                                                       \r"
     ]
    },
    {
     "name": "stdout",
     "output_type": "stream",
     "text": [
      "Epoch [14/30] - Train Loss: 0.1405, Train Accuracy: 98.67%, Val Loss: 0.1399, Val Accuracy: 98.39%\n",
      "Epoch [15/30]\n"
     ]
    },
    {
     "name": "stderr",
     "output_type": "stream",
     "text": [
      "Training: 100%|███████████████████████████████████████████| 127/127 [02:21<00:00,  1.12s/it, accuracy=99, loss=0.00407]\n",
      "                                                                                                                       \r"
     ]
    },
    {
     "name": "stdout",
     "output_type": "stream",
     "text": [
      "Epoch [15/30] - Train Loss: 0.1303, Train Accuracy: 99.02%, Val Loss: 0.1304, Val Accuracy: 98.39%\n",
      "Epoch [16/30]\n"
     ]
    },
    {
     "name": "stderr",
     "output_type": "stream",
     "text": [
      "Training: 100%|█████████████████████████████████████████| 127/127 [02:23<00:00,  1.13s/it, accuracy=99.2, loss=0.00379]\n",
      "                                                                                                                       \r"
     ]
    },
    {
     "name": "stdout",
     "output_type": "stream",
     "text": [
      "Epoch [16/30] - Train Loss: 0.1214, Train Accuracy: 99.19%, Val Loss: 0.1235, Val Accuracy: 98.23%\n",
      "Epoch [17/30]\n"
     ]
    },
    {
     "name": "stderr",
     "output_type": "stream",
     "text": [
      "Training: 100%|█████████████████████████████████████████| 127/127 [02:22<00:00,  1.12s/it, accuracy=99.1, loss=0.00355]\n",
      "                                                                                                                       \r"
     ]
    },
    {
     "name": "stdout",
     "output_type": "stream",
     "text": [
      "Epoch [17/30] - Train Loss: 0.1136, Train Accuracy: 99.11%, Val Loss: 0.1145, Val Accuracy: 98.55%\n",
      "Epoch [18/30]\n"
     ]
    },
    {
     "name": "stderr",
     "output_type": "stream",
     "text": [
      "Training: 100%|█████████████████████████████████████████| 127/127 [02:33<00:00,  1.21s/it, accuracy=99.4, loss=0.00332]\n",
      "                                                                                                                       \r"
     ]
    },
    {
     "name": "stdout",
     "output_type": "stream",
     "text": [
      "Epoch [18/30] - Train Loss: 0.1061, Train Accuracy: 99.38%, Val Loss: 0.1064, Val Accuracy: 98.71%\n",
      "Epoch [19/30]\n"
     ]
    },
    {
     "name": "stderr",
     "output_type": "stream",
     "text": [
      "Training: 100%|█████████████████████████████████████████| 127/127 [02:22<00:00,  1.12s/it, accuracy=99.5, loss=0.00311]\n",
      "                                                                                                                       \r"
     ]
    },
    {
     "name": "stdout",
     "output_type": "stream",
     "text": [
      "Epoch [19/30] - Train Loss: 0.0994, Train Accuracy: 99.46%, Val Loss: 0.1010, Val Accuracy: 98.87%\n",
      "Epoch [20/30]\n"
     ]
    },
    {
     "name": "stderr",
     "output_type": "stream",
     "text": [
      "Training: 100%|█████████████████████████████████████████| 127/127 [02:22<00:00,  1.12s/it, accuracy=99.5, loss=0.00292]\n",
      "                                                                                                                       \r"
     ]
    },
    {
     "name": "stdout",
     "output_type": "stream",
     "text": [
      "Epoch [20/30] - Train Loss: 0.0935, Train Accuracy: 99.48%, Val Loss: 0.0954, Val Accuracy: 99.03%\n",
      "Epoch [21/30]\n"
     ]
    },
    {
     "name": "stderr",
     "output_type": "stream",
     "text": [
      "Training: 100%|█████████████████████████████████████████| 127/127 [02:23<00:00,  1.13s/it, accuracy=99.6, loss=0.00274]\n",
      "                                                                                                                       \r"
     ]
    },
    {
     "name": "stdout",
     "output_type": "stream",
     "text": [
      "Epoch [21/30] - Train Loss: 0.0878, Train Accuracy: 99.58%, Val Loss: 0.0898, Val Accuracy: 99.19%\n",
      "Epoch [22/30]\n"
     ]
    },
    {
     "name": "stderr",
     "output_type": "stream",
     "text": [
      "Training: 100%|█████████████████████████████████████████| 127/127 [02:22<00:00,  1.12s/it, accuracy=99.7, loss=0.00259]\n",
      "                                                                                                                       \r"
     ]
    },
    {
     "name": "stdout",
     "output_type": "stream",
     "text": [
      "Epoch [22/30] - Train Loss: 0.0829, Train Accuracy: 99.66%, Val Loss: 0.0841, Val Accuracy: 99.36%\n",
      "Epoch [23/30]\n"
     ]
    },
    {
     "name": "stderr",
     "output_type": "stream",
     "text": [
      "Training: 100%|█████████████████████████████████████████| 127/127 [02:23<00:00,  1.13s/it, accuracy=99.7, loss=0.00244]\n",
      "                                                                                                                       \r"
     ]
    },
    {
     "name": "stdout",
     "output_type": "stream",
     "text": [
      "Epoch [23/30] - Train Loss: 0.0780, Train Accuracy: 99.66%, Val Loss: 0.0795, Val Accuracy: 99.52%\n",
      "Epoch [24/30]\n"
     ]
    },
    {
     "name": "stderr",
     "output_type": "stream",
     "text": [
      "Training: 100%|██████████████████████████████████████████| 127/127 [02:22<00:00,  1.12s/it, accuracy=99.7, loss=0.0023]\n",
      "                                                                                                                       \r"
     ]
    },
    {
     "name": "stdout",
     "output_type": "stream",
     "text": [
      "Epoch [24/30] - Train Loss: 0.0737, Train Accuracy: 99.68%, Val Loss: 0.0749, Val Accuracy: 99.52%\n",
      "Epoch [25/30]\n"
     ]
    },
    {
     "name": "stderr",
     "output_type": "stream",
     "text": [
      "Training: 100%|█████████████████████████████████████████| 127/127 [02:22<00:00,  1.12s/it, accuracy=99.8, loss=0.00218]\n",
      "                                                                                                                       \r"
     ]
    },
    {
     "name": "stdout",
     "output_type": "stream",
     "text": [
      "Epoch [25/30] - Train Loss: 0.0697, Train Accuracy: 99.75%, Val Loss: 0.0714, Val Accuracy: 99.68%\n",
      "Epoch [26/30]\n"
     ]
    },
    {
     "name": "stderr",
     "output_type": "stream",
     "text": [
      "Training: 100%|█████████████████████████████████████████| 127/127 [02:21<00:00,  1.11s/it, accuracy=99.8, loss=0.00207]\n",
      "                                                                                                                       \r"
     ]
    },
    {
     "name": "stdout",
     "output_type": "stream",
     "text": [
      "Epoch [26/30] - Train Loss: 0.0662, Train Accuracy: 99.75%, Val Loss: 0.0676, Val Accuracy: 99.68%\n",
      "Epoch [27/30]\n"
     ]
    },
    {
     "name": "stderr",
     "output_type": "stream",
     "text": [
      "Training: 100%|█████████████████████████████████████████| 127/127 [02:23<00:00,  1.13s/it, accuracy=99.8, loss=0.00195]\n",
      "                                                                                                                       \r"
     ]
    },
    {
     "name": "stdout",
     "output_type": "stream",
     "text": [
      "Epoch [27/30] - Train Loss: 0.0625, Train Accuracy: 99.80%, Val Loss: 0.0646, Val Accuracy: 99.68%\n",
      "Epoch [28/30]\n"
     ]
    },
    {
     "name": "stderr",
     "output_type": "stream",
     "text": [
      "Training: 100%|█████████████████████████████████████████| 127/127 [02:23<00:00,  1.13s/it, accuracy=99.8, loss=0.00186]\n",
      "                                                                                                                       \r"
     ]
    },
    {
     "name": "stdout",
     "output_type": "stream",
     "text": [
      "Epoch [28/30] - Train Loss: 0.0594, Train Accuracy: 99.80%, Val Loss: 0.0614, Val Accuracy: 99.68%\n",
      "Epoch [29/30]\n"
     ]
    },
    {
     "name": "stderr",
     "output_type": "stream",
     "text": [
      "Training: 100%|█████████████████████████████████████████| 127/127 [02:22<00:00,  1.13s/it, accuracy=99.9, loss=0.00176]\n",
      "                                                                                                                       \r"
     ]
    },
    {
     "name": "stdout",
     "output_type": "stream",
     "text": [
      "Epoch [29/30] - Train Loss: 0.0564, Train Accuracy: 99.88%, Val Loss: 0.0572, Val Accuracy: 99.84%\n",
      "Epoch [30/30]\n"
     ]
    },
    {
     "name": "stderr",
     "output_type": "stream",
     "text": [
      "Training: 100%|█████████████████████████████████████████| 127/127 [02:22<00:00,  1.12s/it, accuracy=99.9, loss=0.00168]\n",
      "                                                                                                                       "
     ]
    },
    {
     "name": "stdout",
     "output_type": "stream",
     "text": [
      "Epoch [30/30] - Train Loss: 0.0536, Train Accuracy: 99.88%, Val Loss: 0.0547, Val Accuracy: 99.84%\n"
     ]
    },
    {
     "name": "stderr",
     "output_type": "stream",
     "text": [
      "\r"
     ]
    }
   ],
   "source": [
    "train_losses = []\n",
    "val_losses = []\n",
    "train_accuracies = []\n",
    "val_accuracies = []\n",
    "\n",
    "num_epochs = 30\n",
    "\n",
    "start_time = time.time()\n",
    "\n",
    "for epoch in range(num_epochs):\n",
    "    print(f\"Epoch [{epoch + 1}/{num_epochs}]\")\n",
    "\n",
    "    # Training phase\n",
    "    model.train()\n",
    "    running_loss = 0.0\n",
    "    correct_train = 0\n",
    "    total_train = 0\n",
    "    train_bar = tqdm(train_loader, desc=\"Training\")\n",
    "    \n",
    "    for inputs, labels in train_bar:\n",
    "        inputs, labels = inputs.to(device), labels.to(device)\n",
    "        optimizer.zero_grad()\n",
    "\n",
    "        outputs = model(inputs).logits\n",
    "        loss = criterion(outputs, labels)\n",
    "        loss.backward()\n",
    "        optimizer.step()\n",
    "\n",
    "        running_loss += loss.item()\n",
    "        _, predicted = torch.max(outputs, 1)\n",
    "        total_train += labels.size(0)\n",
    "        correct_train += (predicted == labels).sum().item()\n",
    "        train_accuracy = 100 * correct_train / total_train\n",
    "        train_bar.set_postfix(loss=running_loss / total_train, accuracy=train_accuracy)\n",
    "\n",
    "    # Calculate average training loss and accuracy for this epoch\n",
    "    avg_train_loss = running_loss / len(train_loader)\n",
    "    avg_train_accuracy = 100 * correct_train / total_train\n",
    "    train_losses.append(avg_train_loss)\n",
    "    train_accuracies.append(avg_train_accuracy)\n",
    "\n",
    "    # Validation phase\n",
    "    model.eval()\n",
    "    val_loss = 0.0\n",
    "    correct_val = 0\n",
    "    total_val = 0\n",
    "    val_bar = tqdm(val_loader, desc=\"Validation\", leave=False)\n",
    "    \n",
    "    with torch.no_grad():\n",
    "        for inputs, labels in val_bar:\n",
    "            inputs, labels = inputs.to(device), labels.to(device)\n",
    "            outputs = model(inputs).logits\n",
    "            loss = criterion(outputs, labels)\n",
    "            val_loss += loss.item()\n",
    "            _, predicted = torch.max(outputs, 1)\n",
    "            total_val += labels.size(0)\n",
    "            correct_val += (predicted == labels).sum().item()\n",
    "            val_accuracy = 100 * correct_val / total_val\n",
    "            val_bar.set_postfix(loss=val_loss / total_val, accuracy=val_accuracy)\n",
    "\n",
    "    # Calculate average validation loss and accuracy for this epoch\n",
    "    avg_val_loss = val_loss / len(val_loader)\n",
    "    avg_val_accuracy = 100 * correct_val / total_val\n",
    "    val_losses.append(avg_val_loss)\n",
    "    val_accuracies.append(avg_val_accuracy)\n",
    "\n",
    "    # Print epoch summary\n",
    "    print(f\"Epoch [{epoch + 1}/{num_epochs}] - Train Loss: {avg_train_loss:.4f}, \"\n",
    "          f\"Train Accuracy: {avg_train_accuracy:.2f}%, \"\n",
    "          f\"Val Loss: {avg_val_loss:.4f}, \"\n",
    "          f\"Val Accuracy: {avg_val_accuracy:.2f}%\")\n",
    "\n",
    "end_time = time.time()"
   ]
  },
  {
   "cell_type": "code",
   "execution_count": 8,
   "id": "835d5e5f-9c77-4914-b543-7b150160ae8c",
   "metadata": {},
   "outputs": [
    {
     "data": {
      "image/png": "[encoded data removed]",
      "text/plain": [
       "<Figure size 1200x500 with 2 Axes>"
      ]
     },
     "metadata": {},
     "output_type": "display_data"
    }
   ],
   "source": [
    "plt.figure(figsize=(12, 5))\n",
    "\n",
    "# Plot Loss\n",
    "plt.subplot(1, 2, 1)\n",
    "plt.plot(range(1, num_epochs + 1), train_losses, label='Train Loss')\n",
    "plt.plot(range(1, num_epochs + 1), val_losses, label='Validation Loss')\n",
    "plt.xlabel('Epochs')\n",
    "plt.ylabel('Loss')\n",
    "plt.title('Training and Validation Loss')\n",
    "plt.legend()\n",
    "\n",
    "# Plot Accuracy\n",
    "plt.subplot(1, 2, 2)\n",
    "plt.plot(range(1, num_epochs + 1), train_accuracies, label='Train Accuracy')\n",
    "plt.plot(range(1, num_epochs + 1), val_accuracies, label='Validation Accuracy')\n",
    "plt.xlabel('Epochs')\n",
    "plt.ylabel('Accuracy (%)')\n",
    "plt.title('Training and Validation Accuracy')\n",
    "plt.legend()\n",
    "\n",
    "plt.tight_layout()\n",
    "plt.show()"
   ]
  },
  {
   "cell_type": "code",
   "execution_count": 10,
   "id": "3f418a08-8cb4-476f-b491-8e7d1c338f20",
   "metadata": {},
   "outputs": [
    {
     "data": {
      "text/plain": [
       "78.15943480332693"
      ]
     },
     "execution_count": 10,
     "metadata": {},
     "output_type": "execute_result"
    }
   ],
   "source": [
    "(end_time - start_time) / 60"
   ]
  },
  {
   "cell_type": "code",
   "execution_count": null,
   "id": "e2d94ef9-77ef-4d8b-9716-52d9df5d5257",
   "metadata": {},
   "outputs": [],
   "source": []
  }
 ],
 "metadata": {
  "kernelspec": {
   "display_name": ".venv",
   "language": "python",
   "name": "python3"
  },
  "language_info": {
   "codemirror_mode": {
    "name": "ipython",
    "version": 3
   },
   "file_extension": ".py",
   "mimetype": "text/x-python",
   "name": "python",
   "nbconvert_exporter": "python",
   "pygments_lexer": "ipython3",
   "version": "3.12.3"
  }
 },
 "nbformat": 4,
 "nbformat_minor": 5
}
