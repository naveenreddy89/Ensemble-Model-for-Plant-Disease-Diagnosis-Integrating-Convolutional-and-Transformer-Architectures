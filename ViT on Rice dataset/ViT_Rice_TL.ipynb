{
 "cells": [
  {
   "cell_type": "code",
   "execution_count": 1,
   "id": "4ced27a4-b262-44ce-b7ad-dbdba5c57d04",
   "metadata": {},
   "outputs": [],
   "source": [
    "import torch\n",
    "import torch.nn as nn\n",
    "import torch.optim as optim\n",
    "from torchvision.datasets import ImageFolder\n",
    "from torch.utils.data import DataLoader\n",
    "from transformers import ViTForImageClassification, ViTFeatureExtractor\n",
    "from torchvision import transforms\n",
    "from sklearn.metrics import accuracy_score\n",
    "from tqdm import tqdm\n",
    "import matplotlib.pyplot as plt\n",
    "import time\n",
    "import os"
   ]
  },
  {
   "cell_type": "code",
   "execution_count": 2,
   "id": "f3f7c5d1-459e-440c-9cc4-9d039201e1ed",
   "metadata": {},
   "outputs": [],
   "source": [
    "transform = transforms.Compose([\n",
    "    transforms.Resize((224, 224)),\n",
    "    transforms.ToTensor(),\n",
    "])\n",
    "\n",
    "train_dataset = ImageFolder(root='D:/Refined 7 Dataset/RICE KAGGLE/train', transform=transform)\n",
    "val_dataset = ImageFolder(root='D:/Refined 7 Dataset/RICE KAGGLE/test', transform=transform)\n",
    "\n",
    "train_loader = DataLoader(train_dataset, batch_size=32, shuffle=True, num_workers=4)\n",
    "val_loader = DataLoader(val_dataset, batch_size=32, shuffle=False, num_workers=4)"
   ]
  },
  {
   "cell_type": "code",
   "execution_count": 3,
   "id": "e8eadb17-1302-4d84-aa2b-a736505940f4",
   "metadata": {},
   "outputs": [
    {
     "name": "stderr",
     "output_type": "stream",
     "text": [
      "Some weights of ViTForImageClassification were not initialized from the model checkpoint at google/vit-base-patch16-224 and are newly initialized because the shapes did not match:\n",
      "- classifier.bias: found shape torch.Size([1000]) in the checkpoint and torch.Size([3]) in the model instantiated\n",
      "- classifier.weight: found shape torch.Size([1000, 768]) in the checkpoint and torch.Size([3, 768]) in the model instantiated\n",
      "You should probably TRAIN this model on a down-stream task to be able to use it for predictions and inference.\n"
     ]
    }
   ],
   "source": [
    "num_classes = len(train_dataset.classes)\n",
    "model = ViTForImageClassification.from_pretrained(\"google/vit-base-patch16-224\",\n",
    "                                                num_labels=num_classes,\n",
    "                                               ignore_mismatched_sizes=True)"
   ]
  },
  {
   "cell_type": "code",
   "execution_count": 4,
   "id": "b30d8455-2c8c-4c07-831e-b210cbf5b218",
   "metadata": {},
   "outputs": [
    {
     "name": "stdout",
     "output_type": "stream",
     "text": [
      "cuda\n"
     ]
    }
   ],
   "source": [
    "for param in model.parameters():\n",
    "    param.requires_grad = False\n",
    "\n",
    "for param in model.classifier.parameters():\n",
    "    param.requires_grad = True\n",
    "\n",
    "device = torch.device(\"cuda\" if torch.cuda.is_available() else \"cpu\")\n",
    "print(device)\n",
    "model = model.to(device)"
   ]
  },
  {
   "cell_type": "code",
   "execution_count": 5,
   "id": "1d5a0589-6420-44c4-8bba-53e1a574aa30",
   "metadata": {},
   "outputs": [
    {
     "name": "stdout",
     "output_type": "stream",
     "text": [
      "Total number of trainable parameters: 2307\n"
     ]
    }
   ],
   "source": [
    "trainable_params = sum(p.numel() for p in model.parameters() if p.requires_grad)\n",
    "print(f\"Total number of trainable parameters: {trainable_params}\")"
   ]
  },
  {
   "cell_type": "code",
   "execution_count": 6,
   "id": "1027df00-7c9d-4d45-b8fb-7274df178cff",
   "metadata": {},
   "outputs": [],
   "source": [
    "criterion = nn.CrossEntropyLoss()\n",
    "optimizer = optim.Adam(model.classifier.parameters(),\n",
    "                       lr=0.00002,\n",
    "                       weight_decay=0.001)"
   ]
  },
  {
   "cell_type": "code",
   "execution_count": 7,
   "id": "396c94a9-2827-4458-9a9c-fd32356d11dc",
   "metadata": {
    "scrolled": true
   },
   "outputs": [
    {
     "name": "stdout",
     "output_type": "stream",
     "text": [
      "Epoch [1/30]\n"
     ]
    },
    {
     "name": "stderr",
     "output_type": "stream",
     "text": [
      "Training:   0%|                                                                                | 0/127 [00:00<?, ?it/s]C:\\Users\\cnky2\\anaconda3\\envs\\manu\\Lib\\site-packages\\transformers\\models\\vit\\modeling_vit.py:252: UserWarning: 1Torch was not compiled with flash attention. (Triggered internally at C:\\cb\\pytorch_1000000000000\\work\\aten\\src\\ATen\\native\\transformers\\cuda\\sdp_utils.cpp:555.)\n",
      "  context_layer = torch.nn.functional.scaled_dot_product_attention(\n",
      "Training: 100%|██████████████████████████████████████████| 127/127 [01:11<00:00,  1.78it/s, accuracy=56.3, loss=0.0291]\n",
      "                                                                                                                       \r"
     ]
    },
    {
     "name": "stdout",
     "output_type": "stream",
     "text": [
      "Epoch [1/30] - Train Loss: 0.9318, Train Accuracy: 56.29%, Val Loss: 0.8404, Val Accuracy: 63.93%\n",
      "Epoch [2/30]\n"
     ]
    },
    {
     "name": "stderr",
     "output_type": "stream",
     "text": [
      "Training: 100%|██████████████████████████████████████████| 127/127 [01:10<00:00,  1.79it/s, accuracy=70.6, loss=0.0225]\n",
      "                                                                                                                       \r"
     ]
    },
    {
     "name": "stdout",
     "output_type": "stream",
     "text": [
      "Epoch [2/30] - Train Loss: 0.7206, Train Accuracy: 70.59%, Val Loss: 0.6964, Val Accuracy: 76.97%\n",
      "Epoch [3/30]\n"
     ]
    },
    {
     "name": "stderr",
     "output_type": "stream",
     "text": [
      "Training: 100%|██████████████████████████████████████████| 127/127 [01:10<00:00,  1.79it/s, accuracy=78.7, loss=0.0192]\n",
      "                                                                                                                       \r"
     ]
    },
    {
     "name": "stdout",
     "output_type": "stream",
     "text": [
      "Epoch [3/30] - Train Loss: 0.6127, Train Accuracy: 78.73%, Val Loss: 0.6080, Val Accuracy: 79.87%\n",
      "Epoch [4/30]\n"
     ]
    },
    {
     "name": "stderr",
     "output_type": "stream",
     "text": [
      "Training: 100%|██████████████████████████████████████████| 127/127 [01:10<00:00,  1.81it/s, accuracy=81.4, loss=0.0168]\n",
      "                                                                                                                       \r"
     ]
    },
    {
     "name": "stdout",
     "output_type": "stream",
     "text": [
      "Epoch [4/30] - Train Loss: 0.5387, Train Accuracy: 81.37%, Val Loss: 0.5385, Val Accuracy: 83.25%\n",
      "Epoch [5/30]\n"
     ]
    },
    {
     "name": "stderr",
     "output_type": "stream",
     "text": [
      "Training: 100%|██████████████████████████████████████████| 127/127 [01:10<00:00,  1.81it/s, accuracy=83.9, loss=0.0151]\n",
      "                                                                                                                       \r"
     ]
    },
    {
     "name": "stdout",
     "output_type": "stream",
     "text": [
      "Epoch [5/30] - Train Loss: 0.4826, Train Accuracy: 83.85%, Val Loss: 0.4844, Val Accuracy: 84.54%\n",
      "Epoch [6/30]\n"
     ]
    },
    {
     "name": "stderr",
     "output_type": "stream",
     "text": [
      "Training: 100%|██████████████████████████████████████████| 127/127 [01:11<00:00,  1.79it/s, accuracy=85.9, loss=0.0137]\n",
      "                                                                                                                       \r"
     ]
    },
    {
     "name": "stdout",
     "output_type": "stream",
     "text": [
      "Epoch [6/30] - Train Loss: 0.4374, Train Accuracy: 85.90%, Val Loss: 0.4403, Val Accuracy: 86.80%\n",
      "Epoch [7/30]\n"
     ]
    },
    {
     "name": "stderr",
     "output_type": "stream",
     "text": [
      "Training: 100%|██████████████████████████████████████████| 127/127 [01:10<00:00,  1.80it/s, accuracy=87.7, loss=0.0125]\n",
      "                                                                                                                       \r"
     ]
    },
    {
     "name": "stdout",
     "output_type": "stream",
     "text": [
      "Epoch [7/30] - Train Loss: 0.3998, Train Accuracy: 87.74%, Val Loss: 0.4061, Val Accuracy: 88.24%\n",
      "Epoch [8/30]\n"
     ]
    },
    {
     "name": "stderr",
     "output_type": "stream",
     "text": [
      "Training: 100%|██████████████████████████████████████████| 127/127 [01:10<00:00,  1.80it/s, accuracy=89.1, loss=0.0115]\n",
      "                                                                                                                       \r"
     ]
    },
    {
     "name": "stdout",
     "output_type": "stream",
     "text": [
      "Epoch [8/30] - Train Loss: 0.3685, Train Accuracy: 89.10%, Val Loss: 0.3725, Val Accuracy: 89.37%\n",
      "Epoch [9/30]\n"
     ]
    },
    {
     "name": "stderr",
     "output_type": "stream",
     "text": [
      "Training: 100%|██████████████████████████████████████████| 127/127 [01:10<00:00,  1.80it/s, accuracy=90.3, loss=0.0107]\n",
      "                                                                                                                       \r"
     ]
    },
    {
     "name": "stdout",
     "output_type": "stream",
     "text": [
      "Epoch [9/30] - Train Loss: 0.3410, Train Accuracy: 90.28%, Val Loss: 0.3439, Val Accuracy: 90.98%\n",
      "Epoch [10/30]\n"
     ]
    },
    {
     "name": "stderr",
     "output_type": "stream",
     "text": [
      "Training: 100%|█████████████████████████████████████████| 127/127 [01:10<00:00,  1.81it/s, accuracy=91.3, loss=0.00991]\n",
      "                                                                                                                       \r"
     ]
    },
    {
     "name": "stdout",
     "output_type": "stream",
     "text": [
      "Epoch [10/30] - Train Loss: 0.3169, Train Accuracy: 91.26%, Val Loss: 0.3218, Val Accuracy: 90.98%\n",
      "Epoch [11/30]\n"
     ]
    },
    {
     "name": "stderr",
     "output_type": "stream",
     "text": [
      "Training: 100%|███████████████████████████████████████████| 127/127 [01:10<00:00,  1.80it/s, accuracy=92, loss=0.00926]\n",
      "                                                                                                                       \r"
     ]
    },
    {
     "name": "stdout",
     "output_type": "stream",
     "text": [
      "Epoch [11/30] - Train Loss: 0.2961, Train Accuracy: 91.98%, Val Loss: 0.2986, Val Accuracy: 92.43%\n",
      "Epoch [12/30]\n"
     ]
    },
    {
     "name": "stderr",
     "output_type": "stream",
     "text": [
      "Training: 100%|███████████████████████████████████████████| 127/127 [01:10<00:00,  1.80it/s, accuracy=93, loss=0.00866]\n",
      "                                                                                                                       \r"
     ]
    },
    {
     "name": "stdout",
     "output_type": "stream",
     "text": [
      "Epoch [12/30] - Train Loss: 0.2772, Train Accuracy: 92.96%, Val Loss: 0.2806, Val Accuracy: 93.40%\n",
      "Epoch [13/30]\n"
     ]
    },
    {
     "name": "stderr",
     "output_type": "stream",
     "text": [
      "Training: 100%|█████████████████████████████████████████| 127/127 [01:10<00:00,  1.79it/s, accuracy=93.6, loss=0.00815]\n",
      "                                                                                                                       \r"
     ]
    },
    {
     "name": "stdout",
     "output_type": "stream",
     "text": [
      "Epoch [13/30] - Train Loss: 0.2608, Train Accuracy: 93.63%, Val Loss: 0.2629, Val Accuracy: 93.40%\n",
      "Epoch [14/30]\n"
     ]
    },
    {
     "name": "stderr",
     "output_type": "stream",
     "text": [
      "Training: 100%|█████████████████████████████████████████| 127/127 [01:10<00:00,  1.80it/s, accuracy=94.6, loss=0.00767]\n",
      "                                                                                                                       \r"
     ]
    },
    {
     "name": "stdout",
     "output_type": "stream",
     "text": [
      "Epoch [14/30] - Train Loss: 0.2454, Train Accuracy: 94.56%, Val Loss: 0.2479, Val Accuracy: 94.04%\n",
      "Epoch [15/30]\n"
     ]
    },
    {
     "name": "stderr",
     "output_type": "stream",
     "text": [
      "Training: 100%|█████████████████████████████████████████| 127/127 [01:10<00:00,  1.80it/s, accuracy=95.2, loss=0.00724]\n",
      "                                                                                                                       \r"
     ]
    },
    {
     "name": "stdout",
     "output_type": "stream",
     "text": [
      "Epoch [15/30] - Train Loss: 0.2316, Train Accuracy: 95.15%, Val Loss: 0.2340, Val Accuracy: 94.36%\n",
      "Epoch [16/30]\n"
     ]
    },
    {
     "name": "stderr",
     "output_type": "stream",
     "text": [
      "Training: 100%|█████████████████████████████████████████| 127/127 [01:10<00:00,  1.80it/s, accuracy=95.7, loss=0.00685]\n",
      "                                                                                                                       \r"
     ]
    },
    {
     "name": "stdout",
     "output_type": "stream",
     "text": [
      "Epoch [16/30] - Train Loss: 0.2191, Train Accuracy: 95.72%, Val Loss: 0.2205, Val Accuracy: 94.85%\n",
      "Epoch [17/30]\n"
     ]
    },
    {
     "name": "stderr",
     "output_type": "stream",
     "text": [
      "Training: 100%|█████████████████████████████████████████| 127/127 [01:10<00:00,  1.79it/s, accuracy=96.3, loss=0.00649]\n",
      "                                                                                                                       \r"
     ]
    },
    {
     "name": "stdout",
     "output_type": "stream",
     "text": [
      "Epoch [17/30] - Train Loss: 0.2076, Train Accuracy: 96.31%, Val Loss: 0.2094, Val Accuracy: 95.33%\n",
      "Epoch [18/30]\n"
     ]
    },
    {
     "name": "stderr",
     "output_type": "stream",
     "text": [
      "Training: 100%|█████████████████████████████████████████| 127/127 [01:10<00:00,  1.79it/s, accuracy=96.7, loss=0.00616]\n",
      "                                                                                                                       \r"
     ]
    },
    {
     "name": "stdout",
     "output_type": "stream",
     "text": [
      "Epoch [18/30] - Train Loss: 0.1972, Train Accuracy: 96.70%, Val Loss: 0.1984, Val Accuracy: 95.97%\n",
      "Epoch [19/30]\n"
     ]
    },
    {
     "name": "stderr",
     "output_type": "stream",
     "text": [
      "Training: 100%|███████████████████████████████████████████| 127/127 [01:10<00:00,  1.79it/s, accuracy=97, loss=0.00586]\n",
      "                                                                                                                       \r"
     ]
    },
    {
     "name": "stdout",
     "output_type": "stream",
     "text": [
      "Epoch [19/30] - Train Loss: 0.1874, Train Accuracy: 96.97%, Val Loss: 0.1893, Val Accuracy: 96.14%\n",
      "Epoch [20/30]\n"
     ]
    },
    {
     "name": "stderr",
     "output_type": "stream",
     "text": [
      "Training: 100%|█████████████████████████████████████████| 127/127 [01:10<00:00,  1.79it/s, accuracy=97.5, loss=0.00557]\n",
      "                                                                                                                       \r"
     ]
    },
    {
     "name": "stdout",
     "output_type": "stream",
     "text": [
      "Epoch [20/30] - Train Loss: 0.1781, Train Accuracy: 97.54%, Val Loss: 0.1814, Val Accuracy: 96.46%\n",
      "Epoch [21/30]\n"
     ]
    },
    {
     "name": "stderr",
     "output_type": "stream",
     "text": [
      "Training: 100%|█████████████████████████████████████████| 127/127 [01:11<00:00,  1.78it/s, accuracy=97.8, loss=0.00531]\n",
      "                                                                                                                       \r"
     ]
    },
    {
     "name": "stdout",
     "output_type": "stream",
     "text": [
      "Epoch [21/30] - Train Loss: 0.1700, Train Accuracy: 97.78%, Val Loss: 0.1715, Val Accuracy: 97.75%\n",
      "Epoch [22/30]\n"
     ]
    },
    {
     "name": "stderr",
     "output_type": "stream",
     "text": [
      "Training: 100%|█████████████████████████████████████████| 127/127 [01:10<00:00,  1.80it/s, accuracy=98.3, loss=0.00507]\n",
      "                                                                                                                       \r"
     ]
    },
    {
     "name": "stdout",
     "output_type": "stream",
     "text": [
      "Epoch [22/30] - Train Loss: 0.1621, Train Accuracy: 98.28%, Val Loss: 0.1634, Val Accuracy: 97.75%\n",
      "Epoch [23/30]\n"
     ]
    },
    {
     "name": "stderr",
     "output_type": "stream",
     "text": [
      "Training: 100%|█████████████████████████████████████████| 127/127 [01:10<00:00,  1.81it/s, accuracy=98.3, loss=0.00484]\n",
      "                                                                                                                       \r"
     ]
    },
    {
     "name": "stdout",
     "output_type": "stream",
     "text": [
      "Epoch [23/30] - Train Loss: 0.1548, Train Accuracy: 98.33%, Val Loss: 0.1571, Val Accuracy: 97.75%\n",
      "Epoch [24/30]\n"
     ]
    },
    {
     "name": "stderr",
     "output_type": "stream",
     "text": [
      "Training: 100%|█████████████████████████████████████████| 127/127 [01:10<00:00,  1.79it/s, accuracy=98.5, loss=0.00462]\n",
      "                                                                                                                       \r"
     ]
    },
    {
     "name": "stdout",
     "output_type": "stream",
     "text": [
      "Epoch [24/30] - Train Loss: 0.1478, Train Accuracy: 98.55%, Val Loss: 0.1494, Val Accuracy: 97.75%\n",
      "Epoch [25/30]\n"
     ]
    },
    {
     "name": "stderr",
     "output_type": "stream",
     "text": [
      "Training: 100%|█████████████████████████████████████████| 127/127 [01:10<00:00,  1.79it/s, accuracy=98.8, loss=0.00443]\n",
      "                                                                                                                       \r"
     ]
    },
    {
     "name": "stdout",
     "output_type": "stream",
     "text": [
      "Epoch [25/30] - Train Loss: 0.1416, Train Accuracy: 98.79%, Val Loss: 0.1448, Val Accuracy: 98.07%\n",
      "Epoch [26/30]\n"
     ]
    },
    {
     "name": "stderr",
     "output_type": "stream",
     "text": [
      "Training: 100%|█████████████████████████████████████████| 127/127 [01:10<00:00,  1.80it/s, accuracy=98.8, loss=0.00424]\n",
      "                                                                                                                       \r"
     ]
    },
    {
     "name": "stdout",
     "output_type": "stream",
     "text": [
      "Epoch [26/30] - Train Loss: 0.1356, Train Accuracy: 98.79%, Val Loss: 0.1389, Val Accuracy: 98.23%\n",
      "Epoch [27/30]\n"
     ]
    },
    {
     "name": "stderr",
     "output_type": "stream",
     "text": [
      "Training: 100%|███████████████████████████████████████████| 127/127 [01:10<00:00,  1.79it/s, accuracy=99, loss=0.00406]\n",
      "                                                                                                                       \r"
     ]
    },
    {
     "name": "stdout",
     "output_type": "stream",
     "text": [
      "Epoch [27/30] - Train Loss: 0.1298, Train Accuracy: 99.02%, Val Loss: 0.1311, Val Accuracy: 98.39%\n",
      "Epoch [28/30]\n"
     ]
    },
    {
     "name": "stderr",
     "output_type": "stream",
     "text": [
      "Training: 100%|█████████████████████████████████████████| 127/127 [01:10<00:00,  1.80it/s, accuracy=99.1, loss=0.00389]\n",
      "                                                                                                                       \r"
     ]
    },
    {
     "name": "stdout",
     "output_type": "stream",
     "text": [
      "Epoch [28/30] - Train Loss: 0.1245, Train Accuracy: 99.14%, Val Loss: 0.1266, Val Accuracy: 98.71%\n",
      "Epoch [29/30]\n"
     ]
    },
    {
     "name": "stderr",
     "output_type": "stream",
     "text": [
      "Training: 100%|█████████████████████████████████████████| 127/127 [01:10<00:00,  1.80it/s, accuracy=99.2, loss=0.00373]\n",
      "                                                                                                                       \r"
     ]
    },
    {
     "name": "stdout",
     "output_type": "stream",
     "text": [
      "Epoch [29/30] - Train Loss: 0.1195, Train Accuracy: 99.19%, Val Loss: 0.1220, Val Accuracy: 98.55%\n",
      "Epoch [30/30]\n"
     ]
    },
    {
     "name": "stderr",
     "output_type": "stream",
     "text": [
      "Training: 100%|█████████████████████████████████████████| 127/127 [01:10<00:00,  1.80it/s, accuracy=99.2, loss=0.00359]\n",
      "                                                                                                                       "
     ]
    },
    {
     "name": "stdout",
     "output_type": "stream",
     "text": [
      "Epoch [30/30] - Train Loss: 0.1148, Train Accuracy: 99.21%, Val Loss: 0.1163, Val Accuracy: 98.71%\n"
     ]
    },
    {
     "name": "stderr",
     "output_type": "stream",
     "text": [
      "\r"
     ]
    }
   ],
   "source": [
    "train_losses = []\n",
    "val_losses = []\n",
    "train_accuracies = []\n",
    "val_accuracies = []\n",
    "\n",
    "num_epochs = 30\n",
    "\n",
    "start_time = time.time()\n",
    "\n",
    "for epoch in range(num_epochs):\n",
    "    print(f\"Epoch [{epoch + 1}/{num_epochs}]\")\n",
    "\n",
    "    # Training phase\n",
    "    model.train()\n",
    "    running_loss = 0.0\n",
    "    correct_train = 0\n",
    "    total_train = 0\n",
    "    train_bar = tqdm(train_loader, desc=\"Training\")\n",
    "    \n",
    "    for inputs, labels in train_bar:\n",
    "        inputs, labels = inputs.to(device), labels.to(device)\n",
    "        optimizer.zero_grad()\n",
    "\n",
    "        outputs = model(inputs).logits\n",
    "        loss = criterion(outputs, labels)\n",
    "        loss.backward()\n",
    "        optimizer.step()\n",
    "\n",
    "        running_loss += loss.item()\n",
    "        _, predicted = torch.max(outputs, 1)\n",
    "        total_train += labels.size(0)\n",
    "        correct_train += (predicted == labels).sum().item()\n",
    "        train_accuracy = 100 * correct_train / total_train\n",
    "        train_bar.set_postfix(loss=running_loss / total_train, accuracy=train_accuracy)\n",
    "\n",
    "    # Calculate average training loss and accuracy for this epoch\n",
    "    avg_train_loss = running_loss / len(train_loader)\n",
    "    avg_train_accuracy = 100 * correct_train / total_train\n",
    "    train_losses.append(avg_train_loss)\n",
    "    train_accuracies.append(avg_train_accuracy)\n",
    "\n",
    "    # Validation phase\n",
    "    model.eval()\n",
    "    val_loss = 0.0\n",
    "    correct_val = 0\n",
    "    total_val = 0\n",
    "    val_bar = tqdm(val_loader, desc=\"Validation\", leave=False)\n",
    "    \n",
    "    with torch.no_grad():\n",
    "        for inputs, labels in val_bar:\n",
    "            inputs, labels = inputs.to(device), labels.to(device)\n",
    "            outputs = model(inputs).logits\n",
    "            loss = criterion(outputs, labels)\n",
    "            val_loss += loss.item()\n",
    "            _, predicted = torch.max(outputs, 1)\n",
    "            total_val += labels.size(0)\n",
    "            correct_val += (predicted == labels).sum().item()\n",
    "            val_accuracy = 100 * correct_val / total_val\n",
    "            val_bar.set_postfix(loss=val_loss / total_val, accuracy=val_accuracy)\n",
    "\n",
    "    # Calculate average validation loss and accuracy for this epoch\n",
    "    avg_val_loss = val_loss / len(val_loader)\n",
    "    avg_val_accuracy = 100 * correct_val / total_val\n",
    "    val_losses.append(avg_val_loss)\n",
    "    val_accuracies.append(avg_val_accuracy)\n",
    "\n",
    "    # Print epoch summary\n",
    "    print(f\"Epoch [{epoch + 1}/{num_epochs}] - Train Loss: {avg_train_loss:.4f}, \"\n",
    "          f\"Train Accuracy: {avg_train_accuracy:.2f}%, \"\n",
    "          f\"Val Loss: {avg_val_loss:.4f}, \"\n",
    "          f\"Val Accuracy: {avg_val_accuracy:.2f}%\")\n",
    "\n",
    "end_time = time.time()"
   ]
  },
  {
   "cell_type": "code",
   "execution_count": 8,
   "id": "835d5e5f-9c77-4914-b543-7b150160ae8c",
   "metadata": {},
   "outputs": [
    {
     "data": {
      "image/png": "[encoded data removed]",
      "text/plain": [
       "<Figure size 1200x500 with 2 Axes>"
      ]
     },
     "metadata": {},
     "output_type": "display_data"
    }
   ],
   "source": [
    "plt.figure(figsize=(12, 5))\n",
    "\n",
    "# Plot Loss\n",
    "plt.subplot(1, 2, 1)\n",
    "plt.plot(range(1, num_epochs + 1), train_losses, label='Train Loss')\n",
    "plt.plot(range(1, num_epochs + 1), val_losses, label='Validation Loss')\n",
    "plt.xlabel('Epochs')\n",
    "plt.ylabel('Loss')\n",
    "plt.title('Training and Validation Loss')\n",
    "plt.legend()\n",
    "\n",
    "# Plot Accuracy\n",
    "plt.subplot(1, 2, 2)\n",
    "plt.plot(range(1, num_epochs + 1), train_accuracies, label='Train Accuracy')\n",
    "plt.plot(range(1, num_epochs + 1), val_accuracies, label='Validation Accuracy')\n",
    "plt.xlabel('Epochs')\n",
    "plt.ylabel('Accuracy (%)')\n",
    "plt.title('Training and Validation Accuracy')\n",
    "plt.legend()\n",
    "\n",
    "plt.tight_layout()\n",
    "plt.show()"
   ]
  },
  {
   "cell_type": "code",
   "execution_count": 9,
   "id": "3f418a08-8cb4-476f-b491-8e7d1c338f20",
   "metadata": {},
   "outputs": [
    {
     "data": {
      "text/plain": [
       "41.894322804609935"
      ]
     },
     "execution_count": 9,
     "metadata": {},
     "output_type": "execute_result"
    }
   ],
   "source": [
    "(end_time - start_time) / 60"
   ]
  },
  {
   "cell_type": "code",
   "execution_count": null,
   "id": "e2d94ef9-77ef-4d8b-9716-52d9df5d5257",
   "metadata": {},
   "outputs": [],
   "source": []
  }
 ],
 "metadata": {
  "kernelspec": {
   "display_name": "Python 3 (ipykernel)",
   "language": "python",
   "name": "python3"
  },
  "language_info": {
   "codemirror_mode": {
    "name": "ipython",
    "version": 3
   },
   "file_extension": ".py",
   "mimetype": "text/x-python",
   "name": "python",
   "nbconvert_exporter": "python",
   "pygments_lexer": "ipython3",
   "version": "3.12.4"
  }
 },
 "nbformat": 4,
 "nbformat_minor": 5
}
