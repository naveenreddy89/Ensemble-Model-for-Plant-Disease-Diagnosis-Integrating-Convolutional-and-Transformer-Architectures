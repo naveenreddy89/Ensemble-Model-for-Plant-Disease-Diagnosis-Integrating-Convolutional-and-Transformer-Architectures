{
 "cells": [
  {
   "cell_type": "code",
   "execution_count": 1,
   "id": "0e585605",
   "metadata": {},
   "outputs": [],
   "source": [
    "import os\n",
    "import torch\n",
    "import matplotlib.pyplot as plt\n",
    "import torchvision\n",
    "from torch import nn\n",
    "from torchvision import transforms"
   ]
  },
  {
   "cell_type": "code",
   "execution_count": 2,
   "id": "638f4857",
   "metadata": {},
   "outputs": [
    {
     "data": {
      "text/plain": [
       "'cuda'"
      ]
     },
     "execution_count": 2,
     "metadata": {},
     "output_type": "execute_result"
    }
   ],
   "source": [
    "device = \"cuda\" if torch.cuda.is_available() else \"cpu\"\n",
    "device"
   ]
  },
  {
   "cell_type": "code",
   "execution_count": 3,
   "id": "68353f95",
   "metadata": {},
   "outputs": [],
   "source": [
    "train_dir = 'D:/Refined 7 Dataset/Plant Village dataset/PlantVillage/train'\n",
    "test_dir = 'D:/Refined 7 Dataset/Plant Village dataset/PlantVillage/test'"
   ]
  },
  {
   "cell_type": "code",
   "execution_count": 4,
   "id": "f10fe20c",
   "metadata": {},
   "outputs": [],
   "source": [
    "IMG_SIZE = 224\n",
    "IN_CHANNELS = 3\n",
    "NUM_CLASSES = 38\n",
    "BATCH_SIZE = 32\n",
    "PATCH_SIZE = 16\n",
    "NUM_WORKERS = os.cpu_count()\n",
    "NUM_TRANSFORMER_LAYERS = 4\n",
    "NUM_HEADS = 12\n",
    "ATTN_DROPOUT = 0\n",
    "MLP_DROPOUT = 0.1\n",
    "EMBD_DROPOUT = 0.1\n",
    "NUM_EPOCHS = 100\n",
    "LRN_RATE = 1e-4\n",
    "WEIGHT_DECAY = 0.001"
   ]
  },
  {
   "cell_type": "code",
   "execution_count": 5,
   "id": "828e061f",
   "metadata": {},
   "outputs": [],
   "source": [
    "from torchvision import datasets, transforms\n",
    "from torch.utils.data import DataLoader\n",
    "\n",
    "def create_dataloaders(\n",
    "    train_dir: str, \n",
    "    test_dir: str, \n",
    "    transform: transforms.Compose, \n",
    "    batch_size: int, \n",
    "    num_workers: int):\n",
    "\n",
    "    train_data = datasets.ImageFolder(train_dir, transform=transform)\n",
    "    test_data = datasets.ImageFolder(test_dir, transform=transform)\n",
    "\n",
    "    class_names = train_data.classes\n",
    "\n",
    "    train_dataloader = DataLoader(\n",
    "        train_data,\n",
    "        batch_size=batch_size,\n",
    "        shuffle=True,\n",
    "        num_workers=num_workers,\n",
    "        pin_memory=True,\n",
    "    )\n",
    "    test_dataloader = DataLoader(\n",
    "        test_data,\n",
    "        batch_size=batch_size,\n",
    "        shuffle=False,\n",
    "        num_workers=num_workers,\n",
    "        pin_memory=True,\n",
    "    )\n",
    "\n",
    "    return train_dataloader, test_dataloader, class_names"
   ]
  },
  {
   "cell_type": "code",
   "execution_count": 6,
   "id": "19da77f9",
   "metadata": {},
   "outputs": [
    {
     "name": "stdout",
     "output_type": "stream",
     "text": [
      "Manually created transforms: Compose(\n",
      "    Resize(size=(224, 224), interpolation=bilinear, max_size=None, antialias=True)\n",
      "    ToTensor()\n",
      ")\n"
     ]
    }
   ],
   "source": [
    "manual_transforms = transforms.Compose([\n",
    "    transforms.Resize((IMG_SIZE, IMG_SIZE)),\n",
    "    transforms.ToTensor(),\n",
    "])\n",
    "\n",
    "print(f\"Manually created transforms: {manual_transforms}\")"
   ]
  },
  {
   "cell_type": "code",
   "execution_count": 7,
   "id": "308f1c2f",
   "metadata": {},
   "outputs": [
    {
     "data": {
      "text/plain": [
       "(<torch.utils.data.dataloader.DataLoader at 0x194c48a2360>,\n",
       " <torch.utils.data.dataloader.DataLoader at 0x194d203fec0>,\n",
       " ['Apple___Apple_scab',\n",
       "  'Apple___Black_rot',\n",
       "  'Apple___Cedar_apple_rust',\n",
       "  'Apple___healthy',\n",
       "  'Blueberry___healthy',\n",
       "  'Cherry_(including_sour)___Powdery_mildew',\n",
       "  'Cherry_(including_sour)___healthy',\n",
       "  'Corn_(maize)___Cercospora_leaf_spot Gray_leaf_spot',\n",
       "  'Corn_(maize)___Common_rust_',\n",
       "  'Corn_(maize)___Northern_Leaf_Blight',\n",
       "  'Corn_(maize)___healthy',\n",
       "  'Grape___Black_rot',\n",
       "  'Grape___Esca_(Black_Measles)',\n",
       "  'Grape___Leaf_blight_(Isariopsis_Leaf_Spot)',\n",
       "  'Grape___healthy',\n",
       "  'Orange___Haunglongbing_(Citrus_greening)',\n",
       "  'Peach___Bacterial_spot',\n",
       "  'Peach___healthy',\n",
       "  'Pepper,_bell___Bacterial_spot',\n",
       "  'Pepper,_bell___healthy',\n",
       "  'Potato___Early_blight',\n",
       "  'Potato___Late_blight',\n",
       "  'Potato___healthy',\n",
       "  'Raspberry___healthy',\n",
       "  'Soybean___healthy',\n",
       "  'Squash___Powdery_mildew',\n",
       "  'Strawberry___Leaf_scorch',\n",
       "  'Strawberry___healthy',\n",
       "  'Tomato___Bacterial_spot',\n",
       "  'Tomato___Early_blight',\n",
       "  'Tomato___Late_blight',\n",
       "  'Tomato___Leaf_Mold',\n",
       "  'Tomato___Septoria_leaf_spot',\n",
       "  'Tomato___Spider_mites Two-spotted_spider_mite',\n",
       "  'Tomato___Target_Spot',\n",
       "  'Tomato___Tomato_Yellow_Leaf_Curl_Virus',\n",
       "  'Tomato___Tomato_mosaic_virus',\n",
       "  'Tomato___healthy'])"
      ]
     },
     "execution_count": 7,
     "metadata": {},
     "output_type": "execute_result"
    }
   ],
   "source": [
    "train_dataloader, test_dataloader, class_names = create_dataloaders(\n",
    "    train_dir = train_dir,\n",
    "    test_dir = test_dir,\n",
    "    transform = manual_transforms, \n",
    "    batch_size = BATCH_SIZE,\n",
    "    num_workers = NUM_WORKERS\n",
    ")"
   ]
  },
  {
   "cell_type": "code",
   "execution_count": 8,
   "id": "15d44424",
   "metadata": {},
   "outputs": [],
   "source": [
    "class PatchEmbedding(nn.Module):\n",
    "    \"\"\"Turns a 2D input image into a 1D sequence learnable embedding vector.\n",
    "    \n",
    "    Args:\n",
    "        in_channels (int): Number of color channels for the input images. Defaults to 3.\n",
    "        patch_size (int): Size of patches to convert input image into. Defaults to 16.\n",
    "        embedding_dim (int): Size of embedding to turn image into. Defaults to 768.\n",
    "    \"\"\" \n",
    "    def __init__(self, \n",
    "                 in_channels:int,\n",
    "                 patch_size:int,\n",
    "                 embedding_dim:int):\n",
    "        super().__init__()\n",
    "        \n",
    "        self.patcher = nn.Conv2d(in_channels=in_channels,\n",
    "                                 out_channels=embedding_dim,\n",
    "                                 kernel_size=patch_size,\n",
    "                                 stride=patch_size,\n",
    "                                 padding=0)\n",
    "\n",
    "        self.flatten = nn.Flatten(start_dim=2, end_dim=3)\n",
    "\n",
    "    def forward(self, x):\n",
    "        x_patched = self.patcher(x)\n",
    "        x_flattened = self.flatten(x_patched)\n",
    "        return x_flattened.permute(0, 2, 1)"
   ]
  },
  {
   "cell_type": "code",
   "execution_count": 9,
   "id": "d991f3d7",
   "metadata": {},
   "outputs": [],
   "source": [
    "def set_seeds(seed: int=42):\n",
    "    \"\"\"Sets random sets for torch operations.\n",
    "\n",
    "    Args:\n",
    "        seed (int, optional): Random seed to set. Defaults to 42.\n",
    "    \"\"\"\n",
    "    torch.manual_seed(seed)\n",
    "    torch.cuda.manual_seed(seed)"
   ]
  },
  {
   "cell_type": "code",
   "execution_count": 10,
   "id": "d5effd23",
   "metadata": {},
   "outputs": [],
   "source": [
    "class MultiheadSelfAttentionBlock(nn.Module):\n",
    "    \"\"\"Creates a multi-head self-attention block (\"MSA block\" for short).\n",
    "    \"\"\"\n",
    "    def __init__(self,\n",
    "                 embedding_dim:int,\n",
    "                 num_heads:int,\n",
    "                 attn_dropout:float):\n",
    "        super().__init__()\n",
    "        \n",
    "        self.layer_norm = nn.LayerNorm(normalized_shape=embedding_dim)\n",
    "        self.multihead_attn = nn.MultiheadAttention(embed_dim=embedding_dim,\n",
    "                                                    num_heads=num_heads,\n",
    "                                                    dropout=attn_dropout,\n",
    "                                                    batch_first=True)\n",
    "        \n",
    "    def forward(self, x):\n",
    "        x = self.layer_norm(x)\n",
    "        attn_output, _ = self.multihead_attn(query=x,\n",
    "                                             key=x,\n",
    "                                             value=x,\n",
    "                                             need_weights=False)\n",
    "        return attn_output"
   ]
  },
  {
   "cell_type": "code",
   "execution_count": 11,
   "id": "b61bd1d2",
   "metadata": {},
   "outputs": [],
   "source": [
    "class MLPBlock(nn.Module):\n",
    "    \"\"\"Creates a layer normalized multilayer perceptron block (\"MLP block\" for short).\"\"\"\n",
    "    def __init__(self,\n",
    "                 embedding_dim:int,\n",
    "                 mlp_size:int,\n",
    "                 dropout:float):\n",
    "        super().__init__()\n",
    "        \n",
    "        self.layer_norm = nn.LayerNorm(normalized_shape=embedding_dim)\n",
    "        \n",
    "        self.mlp = nn.Sequential(\n",
    "            nn.Linear(in_features=embedding_dim, out_features=mlp_size),\n",
    "            nn.GELU(),\n",
    "            nn.Dropout(p=dropout),\n",
    "            nn.Linear(in_features=mlp_size, out_features=embedding_dim),\n",
    "            nn.Dropout(p=dropout)\n",
    "        )\n",
    "    \n",
    "    def forward(self, x):\n",
    "        x = self.layer_norm(x)\n",
    "        x = self.mlp(x)\n",
    "        return x"
   ]
  },
  {
   "cell_type": "code",
   "execution_count": 12,
   "id": "f2c1ded8",
   "metadata": {},
   "outputs": [],
   "source": [
    "class TransformerEncoderBlock(nn.Module):\n",
    "    \"\"\"Creates a Transformer Encoder block.\"\"\"\n",
    "    def __init__(self,\n",
    "                 embedding_dim:int,\n",
    "                 num_heads:int,\n",
    "                 mlp_size:int,\n",
    "                 mlp_dropout:float,\n",
    "                 attn_dropout:float):\n",
    "        super().__init__()\n",
    "\n",
    "        self.msa_block = MultiheadSelfAttentionBlock(embedding_dim=embedding_dim, num_heads=num_heads, attn_dropout=attn_dropout)\n",
    "        self.mlp_block =  MLPBlock(embedding_dim=embedding_dim, mlp_size=mlp_size, dropout=mlp_dropout)\n",
    "        \n",
    "    def forward(self, x):\n",
    "        x = self.msa_block(x) + x\n",
    "        x = self.mlp_block(x) + x\n",
    "        return x"
   ]
  },
  {
   "cell_type": "code",
   "execution_count": 13,
   "id": "93b02def",
   "metadata": {},
   "outputs": [],
   "source": [
    "class ViT(nn.Module):\n",
    "    \"\"\"Creates a Vision Transformer architecture with ViT-Base hyperparameters by default.\"\"\"\n",
    "    def __init__(self,\n",
    "                 img_size:int=IMG_SIZE,\n",
    "                 in_channels:int=IN_CHANNELS,\n",
    "                 patch_size:int=PATCH_SIZE,\n",
    "                 num_transformer_layers:int=NUM_TRANSFORMER_LAYERS,\n",
    "                 embedding_dim:int=(PATCH_SIZE**2)*3,\n",
    "                 mlp_size:int=(PATCH_SIZE**2)*3*4,\n",
    "                 num_heads:int=NUM_HEADS,\n",
    "                 attn_dropout:float=ATTN_DROPOUT,\n",
    "                 mlp_dropout:float=MLP_DROPOUT,\n",
    "                 embedding_dropout:float=EMBD_DROPOUT,\n",
    "                 num_classes:int=NUM_CLASSES):\n",
    "        super().__init__()\n",
    "        \n",
    "        assert img_size % patch_size == 0, f\"Image size must be divisible by patch size, image size: {img_size}, patch size: {patch_size}.\"\n",
    "        \n",
    "        self.num_patches = (img_size * img_size) // patch_size**2\n",
    "        self.class_embedding = nn.Parameter(data=torch.randn(1, 1, embedding_dim), requires_grad=True)\n",
    "        self.position_embedding = nn.Parameter(data=torch.randn(1, self.num_patches+1, embedding_dim), requires_grad=True)\n",
    "        self.embedding_dropout = nn.Dropout(p=embedding_dropout)        \n",
    "        self.patch_embedding = PatchEmbedding(in_channels=in_channels, patch_size=patch_size, embedding_dim=embedding_dim)\n",
    "        self.transformer_encoder = nn.Sequential(*[TransformerEncoderBlock(embedding_dim=embedding_dim,\n",
    "                                                                            num_heads=num_heads,\n",
    "                                                                            mlp_size=mlp_size,\n",
    "                                                                            mlp_dropout=mlp_dropout,\n",
    "                                                                            attn_dropout=attn_dropout) for _ in range(num_transformer_layers)])\n",
    "       \n",
    "        self.classifier = nn.Sequential(\n",
    "            nn.LayerNorm(normalized_shape=embedding_dim),\n",
    "            nn.Linear(in_features=embedding_dim, out_features=num_classes)\n",
    "        )\n",
    "    \n",
    "    def forward(self, x):\n",
    "        batch_size = x.shape[0]\n",
    "        class_token = self.class_embedding.expand(batch_size, -1, -1)\n",
    "        x = self.patch_embedding(x)\n",
    "        x = torch.cat((class_token, x), dim=1)\n",
    "        x = self.position_embedding + x\n",
    "        x = self.embedding_dropout(x)\n",
    "        x = self.transformer_encoder(x)\n",
    "        x = self.classifier(x[:, 0])\n",
    "        return x       "
   ]
  },
  {
   "cell_type": "code",
   "execution_count": 14,
   "id": "5a9288fe",
   "metadata": {},
   "outputs": [],
   "source": [
    "vit = ViT(img_size=IMG_SIZE,\n",
    "          in_channels=IN_CHANNELS,\n",
    "          patch_size=PATCH_SIZE,\n",
    "          num_transformer_layers=NUM_TRANSFORMER_LAYERS,\n",
    "          embedding_dim=(PATCH_SIZE**2)*3,\n",
    "          mlp_size=(PATCH_SIZE**2)*3*4,\n",
    "          num_heads=NUM_HEADS,\n",
    "          attn_dropout=ATTN_DROPOUT,\n",
    "          mlp_dropout=MLP_DROPOUT,\n",
    "          embedding_dropout=EMBD_DROPOUT,\n",
    "          num_classes=NUM_CLASSES\n",
    "        )"
   ]
  },
  {
   "cell_type": "code",
   "execution_count": 15,
   "id": "db655a1b",
   "metadata": {},
   "outputs": [
    {
     "name": "stderr",
     "output_type": "stream",
     "text": [
      "C:\\Users\\cnky2\\anaconda3\\envs\\manu\\Lib\\site-packages\\torch\\nn\\modules\\activation.py:1230: UserWarning: 1Torch was not compiled with flash attention. (Triggered internally at C:\\cb\\pytorch_1000000000000\\work\\aten\\src\\ATen\\native\\transformers\\cuda\\sdp_utils.cpp:555.)\n",
      "  return torch._native_multi_head_attention(\n"
     ]
    },
    {
     "data": {
      "text/plain": [
       "============================================================================================================================================\n",
       "Layer (type (var_name))                                      Input Shape          Output Shape         Param #              Trainable\n",
       "============================================================================================================================================\n",
       "ViT (ViT)                                                    [1, 3, 224, 224]     [1, 38]              152,064              True\n",
       "├─PatchEmbedding (patch_embedding)                           [1, 3, 224, 224]     [1, 196, 768]        --                   True\n",
       "│    └─Conv2d (patcher)                                      [1, 3, 224, 224]     [1, 768, 14, 14]     590,592              True\n",
       "│    └─Flatten (flatten)                                     [1, 768, 14, 14]     [1, 768, 196]        --                   --\n",
       "├─Dropout (embedding_dropout)                                [1, 197, 768]        [1, 197, 768]        --                   --\n",
       "├─Sequential (transformer_encoder)                           [1, 197, 768]        [1, 197, 768]        --                   True\n",
       "│    └─TransformerEncoderBlock (0)                           [1, 197, 768]        [1, 197, 768]        --                   True\n",
       "│    │    └─MultiheadSelfAttentionBlock (msa_block)          [1, 197, 768]        [1, 197, 768]        2,363,904            True\n",
       "│    │    └─MLPBlock (mlp_block)                             [1, 197, 768]        [1, 197, 768]        4,723,968            True\n",
       "│    └─TransformerEncoderBlock (1)                           [1, 197, 768]        [1, 197, 768]        --                   True\n",
       "│    │    └─MultiheadSelfAttentionBlock (msa_block)          [1, 197, 768]        [1, 197, 768]        2,363,904            True\n",
       "│    │    └─MLPBlock (mlp_block)                             [1, 197, 768]        [1, 197, 768]        4,723,968            True\n",
       "│    └─TransformerEncoderBlock (2)                           [1, 197, 768]        [1, 197, 768]        --                   True\n",
       "│    │    └─MultiheadSelfAttentionBlock (msa_block)          [1, 197, 768]        [1, 197, 768]        2,363,904            True\n",
       "│    │    └─MLPBlock (mlp_block)                             [1, 197, 768]        [1, 197, 768]        4,723,968            True\n",
       "│    └─TransformerEncoderBlock (3)                           [1, 197, 768]        [1, 197, 768]        --                   True\n",
       "│    │    └─MultiheadSelfAttentionBlock (msa_block)          [1, 197, 768]        [1, 197, 768]        2,363,904            True\n",
       "│    │    └─MLPBlock (mlp_block)                             [1, 197, 768]        [1, 197, 768]        4,723,968            True\n",
       "├─Sequential (classifier)                                    [1, 768]             [1, 38]              --                   True\n",
       "│    └─LayerNorm (0)                                         [1, 768]             [1, 768]             1,536                True\n",
       "│    └─Linear (1)                                            [1, 768]             [1, 38]              29,222               True\n",
       "============================================================================================================================================\n",
       "Total params: 29,124,902\n",
       "Trainable params: 29,124,902\n",
       "Non-trainable params: 0\n",
       "Total mult-adds (Units.MEGABYTES): 134.69\n",
       "============================================================================================================================================\n",
       "Input size (MB): 0.60\n",
       "Forward/backward pass size (MB): 35.10\n",
       "Params size (MB): 78.09\n",
       "Estimated Total Size (MB): 113.80\n",
       "============================================================================================================================================"
      ]
     },
     "execution_count": 15,
     "metadata": {},
     "output_type": "execute_result"
    }
   ],
   "source": [
    "from torchinfo import summary\n",
    "summary(model=vit,\n",
    "        input_size=(1, 3, 224, 224),\n",
    "        col_names=[\"input_size\", \"output_size\", \"num_params\", \"trainable\"],\n",
    "        col_width=20,\n",
    "        row_settings=[\"var_names\"])"
   ]
  },
  {
   "cell_type": "code",
   "execution_count": 16,
   "id": "1b421e02",
   "metadata": {},
   "outputs": [],
   "source": [
    "from going_modular.going_modular import engine\n",
    "optimizer = torch.optim.Adam(params=vit.parameters(), \n",
    "                             lr=LRN_RATE,\n",
    "                             betas=(0.9, 0.999),\n",
    "                             weight_decay=WEIGHT_DECAY)\n",
    "\n",
    "loss_fn = torch.nn.CrossEntropyLoss()\n",
    "set_seeds()"
   ]
  },
  {
   "cell_type": "code",
   "execution_count": 17,
   "id": "369b4461",
   "metadata": {},
   "outputs": [
    {
     "data": {
      "application/vnd.jupyter.widget-view+json": {
       "model_id": "b38d00efb9fd49c998d9e89527a2985e",
       "version_major": 2,
       "version_minor": 0
      },
      "text/plain": [
       "  0%|          | 0/100 [00:00<?, ?it/s]"
      ]
     },
     "metadata": {},
     "output_type": "display_data"
    },
    {
     "name": "stdout",
     "output_type": "stream",
     "text": [
      "Epoch: 1 | train_loss: 1.5838 | train_acc: 0.5499 | test_loss: 0.8487 | test_acc: 0.7362\n",
      "Epoch: 2 | train_loss: 0.6150 | train_acc: 0.8077 | test_loss: 0.6041 | test_acc: 0.8108\n",
      "Epoch: 3 | train_loss: 0.4140 | train_acc: 0.8696 | test_loss: 0.3593 | test_acc: 0.8843\n",
      "Epoch: 4 | train_loss: 0.3287 | train_acc: 0.8969 | test_loss: 0.3165 | test_acc: 0.8947\n",
      "Epoch: 5 | train_loss: 0.2744 | train_acc: 0.9132 | test_loss: 0.2387 | test_acc: 0.9222\n",
      "Epoch: 6 | train_loss: 0.2432 | train_acc: 0.9242 | test_loss: 0.2457 | test_acc: 0.9196\n",
      "Epoch: 7 | train_loss: 0.2237 | train_acc: 0.9311 | test_loss: 0.2862 | test_acc: 0.9106\n",
      "Epoch: 8 | train_loss: 0.2118 | train_acc: 0.9330 | test_loss: 0.2339 | test_acc: 0.9232\n",
      "Epoch: 9 | train_loss: 0.1949 | train_acc: 0.9398 | test_loss: 0.2042 | test_acc: 0.9353\n",
      "Epoch: 10 | train_loss: 0.1851 | train_acc: 0.9448 | test_loss: 0.2125 | test_acc: 0.9312\n",
      "Epoch: 11 | train_loss: 0.1774 | train_acc: 0.9459 | test_loss: 0.1832 | test_acc: 0.9396\n",
      "Epoch: 12 | train_loss: 0.1696 | train_acc: 0.9492 | test_loss: 0.1778 | test_acc: 0.9428\n",
      "Epoch: 13 | train_loss: 0.1627 | train_acc: 0.9507 | test_loss: 0.1723 | test_acc: 0.9453\n",
      "Epoch: 14 | train_loss: 0.1587 | train_acc: 0.9523 | test_loss: 0.1708 | test_acc: 0.9451\n",
      "Epoch: 15 | train_loss: 0.1510 | train_acc: 0.9549 | test_loss: 0.1622 | test_acc: 0.9518\n",
      "Epoch: 16 | train_loss: 0.1451 | train_acc: 0.9567 | test_loss: 0.1703 | test_acc: 0.9448\n",
      "Epoch: 17 | train_loss: 0.1395 | train_acc: 0.9577 | test_loss: 0.2074 | test_acc: 0.9335\n",
      "Epoch: 18 | train_loss: 0.1400 | train_acc: 0.9567 | test_loss: 0.1752 | test_acc: 0.9430\n",
      "Epoch: 19 | train_loss: 0.1380 | train_acc: 0.9579 | test_loss: 0.1413 | test_acc: 0.9559\n",
      "Epoch: 20 | train_loss: 0.1350 | train_acc: 0.9589 | test_loss: 0.1540 | test_acc: 0.9485\n",
      "Epoch: 21 | train_loss: 0.1240 | train_acc: 0.9635 | test_loss: 0.1462 | test_acc: 0.9524\n",
      "Epoch: 22 | train_loss: 0.1256 | train_acc: 0.9616 | test_loss: 0.1386 | test_acc: 0.9557\n",
      "Epoch: 23 | train_loss: 0.1194 | train_acc: 0.9649 | test_loss: 0.1462 | test_acc: 0.9534\n",
      "Epoch: 24 | train_loss: 0.1142 | train_acc: 0.9676 | test_loss: 0.1263 | test_acc: 0.9591\n",
      "Epoch: 25 | train_loss: 0.1112 | train_acc: 0.9659 | test_loss: 0.1109 | test_acc: 0.9668\n",
      "Epoch: 26 | train_loss: 0.1083 | train_acc: 0.9674 | test_loss: 0.1426 | test_acc: 0.9533\n",
      "Epoch: 27 | train_loss: 0.1051 | train_acc: 0.9681 | test_loss: 0.1203 | test_acc: 0.9626\n",
      "Epoch: 28 | train_loss: 0.0988 | train_acc: 0.9709 | test_loss: 0.1349 | test_acc: 0.9541\n",
      "Epoch: 29 | train_loss: 0.0978 | train_acc: 0.9714 | test_loss: 0.1222 | test_acc: 0.9619\n",
      "Epoch: 30 | train_loss: 0.0972 | train_acc: 0.9708 | test_loss: 0.0980 | test_acc: 0.9694\n",
      "Epoch: 31 | train_loss: 0.0934 | train_acc: 0.9721 | test_loss: 0.0996 | test_acc: 0.9699\n",
      "Epoch: 32 | train_loss: 0.0911 | train_acc: 0.9723 | test_loss: 0.1328 | test_acc: 0.9585\n",
      "Epoch: 33 | train_loss: 0.0832 | train_acc: 0.9755 | test_loss: 0.0867 | test_acc: 0.9720\n",
      "Epoch: 34 | train_loss: 0.0839 | train_acc: 0.9752 | test_loss: 0.0933 | test_acc: 0.9710\n",
      "Epoch: 35 | train_loss: 0.0861 | train_acc: 0.9736 | test_loss: 0.1012 | test_acc: 0.9664\n",
      "Epoch: 36 | train_loss: 0.0770 | train_acc: 0.9762 | test_loss: 0.0935 | test_acc: 0.9705\n",
      "Epoch: 37 | train_loss: 0.0798 | train_acc: 0.9764 | test_loss: 0.0866 | test_acc: 0.9736\n",
      "Epoch: 38 | train_loss: 0.0727 | train_acc: 0.9788 | test_loss: 0.0947 | test_acc: 0.9693\n",
      "Epoch: 39 | train_loss: 0.0770 | train_acc: 0.9768 | test_loss: 0.0867 | test_acc: 0.9728\n",
      "Epoch: 40 | train_loss: 0.0725 | train_acc: 0.9782 | test_loss: 0.1079 | test_acc: 0.9654\n",
      "Epoch: 41 | train_loss: 0.0724 | train_acc: 0.9786 | test_loss: 0.1110 | test_acc: 0.9649\n",
      "Epoch: 42 | train_loss: 0.0709 | train_acc: 0.9793 | test_loss: 0.0859 | test_acc: 0.9733\n",
      "Epoch: 43 | train_loss: 0.0730 | train_acc: 0.9781 | test_loss: 0.1214 | test_acc: 0.9612\n",
      "Epoch: 44 | train_loss: 0.0653 | train_acc: 0.9809 | test_loss: 0.0966 | test_acc: 0.9691\n",
      "Epoch: 45 | train_loss: 0.0662 | train_acc: 0.9796 | test_loss: 0.0789 | test_acc: 0.9751\n",
      "Epoch: 46 | train_loss: 0.0653 | train_acc: 0.9809 | test_loss: 0.0743 | test_acc: 0.9774\n",
      "Epoch: 47 | train_loss: 0.0634 | train_acc: 0.9814 | test_loss: 0.0731 | test_acc: 0.9779\n",
      "Epoch: 48 | train_loss: 0.0617 | train_acc: 0.9819 | test_loss: 0.1056 | test_acc: 0.9659\n",
      "Epoch: 49 | train_loss: 0.0616 | train_acc: 0.9823 | test_loss: 0.0812 | test_acc: 0.9744\n",
      "Epoch: 50 | train_loss: 0.0603 | train_acc: 0.9821 | test_loss: 0.0816 | test_acc: 0.9742\n",
      "Epoch: 51 | train_loss: 0.0583 | train_acc: 0.9830 | test_loss: 0.0860 | test_acc: 0.9711\n",
      "Epoch: 52 | train_loss: 0.0584 | train_acc: 0.9826 | test_loss: 0.0608 | test_acc: 0.9795\n",
      "Epoch: 53 | train_loss: 0.0581 | train_acc: 0.9823 | test_loss: 0.0818 | test_acc: 0.9728\n",
      "Epoch: 54 | train_loss: 0.0567 | train_acc: 0.9827 | test_loss: 0.0749 | test_acc: 0.9759\n",
      "Epoch: 55 | train_loss: 0.0569 | train_acc: 0.9826 | test_loss: 0.0705 | test_acc: 0.9777\n",
      "Epoch: 56 | train_loss: 0.0547 | train_acc: 0.9835 | test_loss: 0.0747 | test_acc: 0.9765\n",
      "Epoch: 57 | train_loss: 0.0566 | train_acc: 0.9829 | test_loss: 0.0711 | test_acc: 0.9777\n",
      "Epoch: 58 | train_loss: 0.0539 | train_acc: 0.9840 | test_loss: 0.0892 | test_acc: 0.9709\n",
      "Epoch: 59 | train_loss: 0.0484 | train_acc: 0.9857 | test_loss: 0.0834 | test_acc: 0.9724\n",
      "Epoch: 60 | train_loss: 0.0559 | train_acc: 0.9834 | test_loss: 0.0833 | test_acc: 0.9735\n",
      "Epoch: 61 | train_loss: 0.0509 | train_acc: 0.9847 | test_loss: 0.0681 | test_acc: 0.9761\n",
      "Epoch: 62 | train_loss: 0.0504 | train_acc: 0.9857 | test_loss: 0.0796 | test_acc: 0.9756\n",
      "Epoch: 63 | train_loss: 0.0509 | train_acc: 0.9846 | test_loss: 0.0705 | test_acc: 0.9786\n",
      "Epoch: 64 | train_loss: 0.0523 | train_acc: 0.9841 | test_loss: 0.0763 | test_acc: 0.9756\n",
      "Epoch: 65 | train_loss: 0.0473 | train_acc: 0.9855 | test_loss: 0.0689 | test_acc: 0.9777\n",
      "Epoch: 66 | train_loss: 0.0481 | train_acc: 0.9854 | test_loss: 0.0595 | test_acc: 0.9806\n",
      "Epoch: 67 | train_loss: 0.0507 | train_acc: 0.9850 | test_loss: 0.0925 | test_acc: 0.9705\n",
      "Epoch: 68 | train_loss: 0.0498 | train_acc: 0.9848 | test_loss: 0.0711 | test_acc: 0.9770\n",
      "Epoch: 69 | train_loss: 0.0435 | train_acc: 0.9876 | test_loss: 0.0832 | test_acc: 0.9741\n",
      "Epoch: 70 | train_loss: 0.0478 | train_acc: 0.9856 | test_loss: 0.0576 | test_acc: 0.9831\n",
      "Epoch: 71 | train_loss: 0.0470 | train_acc: 0.9853 | test_loss: 0.0682 | test_acc: 0.9777\n",
      "Epoch: 72 | train_loss: 0.0443 | train_acc: 0.9873 | test_loss: 0.0717 | test_acc: 0.9768\n",
      "Epoch: 73 | train_loss: 0.0463 | train_acc: 0.9862 | test_loss: 0.0604 | test_acc: 0.9810\n",
      "Epoch: 74 | train_loss: 0.0454 | train_acc: 0.9868 | test_loss: 0.1000 | test_acc: 0.9674\n",
      "Epoch: 75 | train_loss: 0.0445 | train_acc: 0.9872 | test_loss: 0.0643 | test_acc: 0.9796\n",
      "Epoch: 76 | train_loss: 0.0420 | train_acc: 0.9878 | test_loss: 0.0634 | test_acc: 0.9799\n",
      "Epoch: 77 | train_loss: 0.0461 | train_acc: 0.9860 | test_loss: 0.0716 | test_acc: 0.9779\n",
      "Epoch: 78 | train_loss: 0.0450 | train_acc: 0.9871 | test_loss: 0.0896 | test_acc: 0.9705\n",
      "Epoch: 79 | train_loss: 0.0403 | train_acc: 0.9877 | test_loss: 0.0616 | test_acc: 0.9802\n",
      "Epoch: 80 | train_loss: 0.0410 | train_acc: 0.9877 | test_loss: 0.0597 | test_acc: 0.9803\n",
      "Epoch: 81 | train_loss: 0.0437 | train_acc: 0.9866 | test_loss: 0.0789 | test_acc: 0.9733\n",
      "Epoch: 82 | train_loss: 0.0454 | train_acc: 0.9858 | test_loss: 0.0666 | test_acc: 0.9788\n",
      "Epoch: 83 | train_loss: 0.0377 | train_acc: 0.9893 | test_loss: 0.0550 | test_acc: 0.9820\n",
      "Epoch: 84 | train_loss: 0.0436 | train_acc: 0.9873 | test_loss: 0.0749 | test_acc: 0.9748\n",
      "Epoch: 85 | train_loss: 0.0407 | train_acc: 0.9881 | test_loss: 0.0623 | test_acc: 0.9795\n",
      "Epoch: 86 | train_loss: 0.0432 | train_acc: 0.9874 | test_loss: 0.0680 | test_acc: 0.9800\n",
      "Epoch: 87 | train_loss: 0.0434 | train_acc: 0.9867 | test_loss: 0.0942 | test_acc: 0.9695\n",
      "Epoch: 88 | train_loss: 0.0394 | train_acc: 0.9876 | test_loss: 0.0593 | test_acc: 0.9807\n",
      "Epoch: 89 | train_loss: 0.0380 | train_acc: 0.9892 | test_loss: 0.0548 | test_acc: 0.9835\n",
      "Epoch: 90 | train_loss: 0.0412 | train_acc: 0.9879 | test_loss: 0.0682 | test_acc: 0.9787\n",
      "Epoch: 91 | train_loss: 0.0395 | train_acc: 0.9884 | test_loss: 0.0578 | test_acc: 0.9812\n",
      "Epoch: 92 | train_loss: 0.0410 | train_acc: 0.9875 | test_loss: 0.0650 | test_acc: 0.9796\n",
      "Epoch: 93 | train_loss: 0.0395 | train_acc: 0.9884 | test_loss: 0.0619 | test_acc: 0.9806\n",
      "Epoch: 94 | train_loss: 0.0368 | train_acc: 0.9888 | test_loss: 0.0721 | test_acc: 0.9770\n",
      "Epoch: 95 | train_loss: 0.0411 | train_acc: 0.9876 | test_loss: 0.0585 | test_acc: 0.9829\n",
      "Epoch: 96 | train_loss: 0.0390 | train_acc: 0.9881 | test_loss: 0.0544 | test_acc: 0.9817\n",
      "Epoch: 97 | train_loss: 0.0377 | train_acc: 0.9891 | test_loss: 0.0668 | test_acc: 0.9801\n",
      "Epoch: 98 | train_loss: 0.0386 | train_acc: 0.9889 | test_loss: 0.0537 | test_acc: 0.9818\n",
      "Epoch: 99 | train_loss: 0.0377 | train_acc: 0.9889 | test_loss: 0.0723 | test_acc: 0.9763\n",
      "Epoch: 100 | train_loss: 0.0395 | train_acc: 0.9880 | test_loss: 0.0642 | test_acc: 0.9786\n"
     ]
    }
   ],
   "source": [
    "results = engine.train(model=vit,\n",
    "                       train_dataloader=train_dataloader,\n",
    "                       test_dataloader=test_dataloader,\n",
    "                       optimizer=optimizer,\n",
    "                       loss_fn=loss_fn,\n",
    "                       epochs=NUM_EPOCHS,\n",
    "                       device=device)"
   ]
  },
  {
   "cell_type": "code",
   "execution_count": 18,
   "id": "bd44080e",
   "metadata": {},
   "outputs": [
    {
     "data": {
      "image/png": "[encoded data removed]",
      "text/plain": [
       "<Figure size 1500x700 with 2 Axes>"
      ]
     },
     "metadata": {},
     "output_type": "display_data"
    }
   ],
   "source": [
    "from helper_functions import plot_loss_curves\n",
    "plot_loss_curves(results)"
   ]
  },
  {
   "cell_type": "code",
   "execution_count": 19,
   "id": "5d2c1543-6624-426b-86bd-143e3d2df063",
   "metadata": {},
   "outputs": [],
   "source": [
    "import pandas as pd\n",
    "results_df = pd.DataFrame(results)\n",
    "results_df.to_csv('training_results.csv', index=False)"
   ]
  },
  {
   "cell_type": "code",
   "execution_count": 20,
   "id": "0afcbeba-68c2-485d-bcb2-335b5fc7d023",
   "metadata": {},
   "outputs": [],
   "source": [
    "torch.save(vit.state_dict(), 'vit_16x16_PlantVillage.pth')"
   ]
  },
  {
   "cell_type": "code",
   "execution_count": null,
   "id": "0a0eb5b1-893e-48aa-abd6-8f12b0c6509d",
   "metadata": {},
   "outputs": [],
   "source": []
  }
 ],
 "metadata": {
  "kernelspec": {
   "display_name": "Python 3 (ipykernel)",
   "language": "python",
   "name": "python3"
  },
  "language_info": {
   "codemirror_mode": {
    "name": "ipython",
    "version": 3
   },
   "file_extension": ".py",
   "mimetype": "text/x-python",
   "name": "python",
   "nbconvert_exporter": "python",
   "pygments_lexer": "ipython3",
   "version": "3.12.4"
  }
 },
 "nbformat": 4,
 "nbformat_minor": 5
}
